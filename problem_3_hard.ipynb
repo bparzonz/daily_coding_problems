{
 "metadata": {
  "language_info": {
   "codemirror_mode": {
    "name": "ipython",
    "version": 3
   },
   "file_extension": ".py",
   "mimetype": "text/x-python",
   "name": "python",
   "nbconvert_exporter": "python",
   "pygments_lexer": "ipython3",
   "version": "3.8.3-final"
  },
  "orig_nbformat": 2,
  "kernelspec": {
   "name": "Python 3.8.3 64-bit ('base': conda)",
   "display_name": "Python 3.8.3 64-bit ('base': conda)",
   "metadata": {
    "interpreter": {
     "hash": "e134e05457d34029b6460cd73bbf1ed73f339b5b6d98c95be70b69eba114fe95"
    }
   }
  }
 },
 "nbformat": 4,
 "nbformat_minor": 2,
 "cells": [
  {
   "source": [
    "# Question <br>\n",
    "This problem was asked by Stripe. <br><br>\n",
    "\n",
    "Given an array of integers, find the first missing positive integer in linear time and constant space. In other words, find the lowest positive integer that does not exist in the array. The array can contain duplicates and negative numbers as well. <br><br>\n",
    "\n",
    "For example, the input `[3, 4, -1, 1]` should give 2. The input `[1, 2, 0]` should give 3.<br><br>\n",
    "\n",
    "You can modify the input array in-place.\n",
    "\n"
   ],
   "cell_type": "markdown",
   "metadata": {}
  },
  {
   "cell_type": "code",
   "execution_count": 1,
   "metadata": {
    "tags": []
   },
   "outputs": [
    {
     "output_type": "stream",
     "name": "stdout",
     "text": "2\n"
    }
   ],
   "source": [
    "array = [1, 0, -6, 3, 14, 20] # no need for numpy array, just used a list. Would work with either.\n",
    "\n",
    "def missing(a):\n",
    "    positive = []\n",
    "    for i in range(len(a)):\n",
    "        if a[i] >= 0:\n",
    "            positive.append(a[i])\n",
    "    \n",
    "    positive.append(0)\n",
    "    miss = 0\n",
    "\n",
    "    while miss in positive:\n",
    "        m = min(positive)\n",
    "        positive.remove(m)\n",
    "        miss = m + 1\n",
    "    \n",
    "    return miss\n",
    "\n",
    "print(missing(array))     "
   ]
  },
  {
   "cell_type": "code",
   "execution_count": null,
   "metadata": {},
   "outputs": [],
   "source": []
  }
 ]
}