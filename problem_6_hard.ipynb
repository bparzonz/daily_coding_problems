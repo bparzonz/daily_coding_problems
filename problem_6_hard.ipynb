{
 "metadata": {
  "language_info": {
   "codemirror_mode": {
    "name": "ipython",
    "version": 3
   },
   "file_extension": ".py",
   "mimetype": "text/x-python",
   "name": "python",
   "nbconvert_exporter": "python",
   "pygments_lexer": "ipython3",
   "version": "3.8.3-final"
  },
  "orig_nbformat": 2,
  "kernelspec": {
   "name": "Python 3.8.3 64-bit ('base': conda)",
   "display_name": "Python 3.8.3 64-bit ('base': conda)",
   "metadata": {
    "interpreter": {
     "hash": "e134e05457d34029b6460cd73bbf1ed73f339b5b6d98c95be70b69eba114fe95"
    }
   }
  }
 },
 "nbformat": 4,
 "nbformat_minor": 2,
 "cells": [
  {
   "source": [
    "# Question <br>\n",
    "This problem was asked by Google.\n",
    "\n",
    "An XOR linked list is a more memory efficient doubly linked list. Instead of each node holding next and prev fields, it holds a field named both, which is an XOR of the next node and the previous node. Implement an XOR linked list; it has an add(element) which adds the element to the end, and a get(index) which returns the node at index.\n",
    "\n",
    "If using a language that has no pointers (such as Python), you can assume you have access to get_pointer and dereference_pointer functions that converts between nodes and memory addresses."
   ],
   "cell_type": "markdown",
   "metadata": {}
  },
  {
   "cell_type": "code",
   "execution_count": 2,
   "metadata": {
    "tags": []
   },
   "outputs": [
    {
     "output_type": "stream",
     "name": "stdout",
     "text": "[13, 6, -3, 33, 2]\n[13, 6, -3, 33, 2, 5]\n(3, 5)\n(-1, 1)\n"
    }
   ],
   "source": [
    "x = [13,6,-3,33,2]\n",
    "\n",
    "def create_link(l_list):\n",
    "    both = {}\n",
    "    for i in range(len(l_list)):\n",
    "        if i == len(l_list) - 1:\n",
    "            both[i] = (i - 1, -1)\n",
    "        else:\n",
    "            both[i] = (i - 1, i + 1)\n",
    "    return both\n",
    "\n",
    "class linked_list:\n",
    "    def __init__(self, l_list):\n",
    "        self.list = l_list\n",
    "        self.index_dic = create_link(self.list)\n",
    "    \n",
    "    def add(self, element):\n",
    "        self.list.append(element)\n",
    "        self.index_dic = create_link(self.list)\n",
    "\n",
    "    def get(self, index):\n",
    "        return self.index_dic[index]\n",
    "\n",
    "l = linked_list(x)\n",
    "\n",
    "print(l.list)\n",
    "\n",
    "l.add(5)\n",
    "\n",
    "print(l.list)\n",
    "\n",
    "print(l.get(4))\n",
    "\n",
    "print(l.get(0))\n"
   ]
  },
  {
   "cell_type": "code",
   "execution_count": null,
   "metadata": {},
   "outputs": [],
   "source": []
  }
 ]
}