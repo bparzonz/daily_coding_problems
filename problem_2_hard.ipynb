{
 "metadata": {
  "language_info": {
   "codemirror_mode": {
    "name": "ipython",
    "version": 3
   },
   "file_extension": ".py",
   "mimetype": "text/x-python",
   "name": "python",
   "nbconvert_exporter": "python",
   "pygments_lexer": "ipython3",
   "version": "3.8.3-final"
  },
  "orig_nbformat": 2,
  "kernelspec": {
   "name": "python_defaultSpec_1600720588240",
   "display_name": "Python 3.8.3 64-bit ('base': conda)"
  }
 },
 "nbformat": 4,
 "nbformat_minor": 2,
 "cells": [
  {
   "source": [
    "# Question <br>\n",
    "This problem was asked by Uber. <br><br>\n",
    "\n",
    "Given an array of integers, return a new array such that each element at index i of the new array is the product of all the numbers in the original array except the one at i.<br><br>\n",
    "\n",
    "For example, if our input was \\[1, 2, 3, 4, 5], the expected output would be \\[120, 60, 40, 30, 24]. If our input was \\[3, 2, 1], the expected output would be \\[2, 3, 6].<br><br>\n",
    "\n",
    "Follow-up: what if you can't use division?"
   ],
   "cell_type": "markdown",
   "metadata": {}
  },
  {
   "source": [
    "array = [1, 2, 3, 4, 5]\n",
    "\n",
    "new_array = []\n",
    "\n",
    "for i in range(len(array)):\n",
    "    product = 1\n",
    "    for l in range(len(array)):\n",
    "        if i == l:\n",
    "            continue\n",
    "        product *= array[l]\n",
    "    new_array.append(product)\n",
    "\n",
    "print(new_array)"
   ],
   "cell_type": "code",
   "metadata": {
    "tags": []
   },
   "execution_count": 6,
   "outputs": [
    {
     "output_type": "stream",
     "name": "stdout",
     "text": "[120, 60, 40, 30, 24]\n"
    }
   ]
  }
 ]
}