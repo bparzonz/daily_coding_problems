{
 "metadata": {
  "language_info": {
   "codemirror_mode": {
    "name": "ipython",
    "version": 3
   },
   "file_extension": ".py",
   "mimetype": "text/x-python",
   "name": "python",
   "nbconvert_exporter": "python",
   "pygments_lexer": "ipython3",
   "version": "3.8.3-final"
  },
  "orig_nbformat": 2,
  "kernelspec": {
   "name": "Python 3.8.3 64-bit ('base': conda)",
   "display_name": "Python 3.8.3 64-bit ('base': conda)",
   "metadata": {
    "interpreter": {
     "hash": "e134e05457d34029b6460cd73bbf1ed73f339b5b6d98c95be70b69eba114fe95"
    }
   }
  }
 },
 "nbformat": 4,
 "nbformat_minor": 2,
 "cells": [
  {
   "source": [
    "# Question <br>\n",
    "This problem was asked by Jane Street.\n",
    "\n",
    "`cons(a, b)` constructs a pair, and `car(pair)` and `cdr(pair)` returns the first and last element of that pair. For example, car`(cons(3, 4))` returns 3, and `cdr(cons(3, 4))` returns 4.\n",
    "\n",
    "Given this implementation of cons:\n",
    "\n",
    "`def cons(a, b):` <br>\n",
    "  &nbsp; &nbsp;`def pair(f):` <br>\n",
    "        &nbsp;&nbsp;&nbsp;&nbsp;&nbsp;&nbsp;`return f(a, b)` <br>\n",
    "   &nbsp; &nbsp;`return pair`<br><br>\n",
    "Implement car and cdr."
   ],
   "cell_type": "markdown",
   "metadata": {}
  },
  {
   "source": [
    "def cons(a, b):\n",
    "    def pair(f):\n",
    "        return f(a, b)\n",
    "    return pair\n",
    "\n",
    "def car(first, second):\n",
    "    couple = (first, second) \n",
    "    print(couple[0])\n",
    "\n",
    "def cdr(first, second):\n",
    "    couple = (first, second) \n",
    "    print(couple[-1])\n",
    "\n",
    "a, b = (13, 44)\n",
    "\n",
    "cons(a,b)(car)\n",
    "cons(a,b)(cdr)"
   ],
   "cell_type": "code",
   "metadata": {
    "tags": []
   },
   "execution_count": 2,
   "outputs": [
    {
     "output_type": "stream",
     "name": "stdout",
     "text": "13\n44\n"
    }
   ]
  }
 ]
}