{
 "metadata": {
  "language_info": {
   "codemirror_mode": {
    "name": "ipython",
    "version": 3
   },
   "file_extension": ".py",
   "mimetype": "text/x-python",
   "name": "python",
   "nbconvert_exporter": "python",
   "pygments_lexer": "ipython3",
   "version": "3.8.3-final"
  },
  "orig_nbformat": 2,
  "kernelspec": {
   "name": "python_defaultSpec_1600660353746",
   "display_name": "Python 3.8.3 64-bit ('base': conda)"
  }
 },
 "nbformat": 4,
 "nbformat_minor": 2,
 "cells": [
  {
   "source": [
    "# Question <br>\n",
    "Given a list of numbers and a number k, return whether any two numbers from the list add up to k. <br> <br>\n",
    "\n",
    "For example, given \\[10, 15, 3, 7] and k of 17, return true since 10 + 7 is 17. <br> <br>\n",
    "\n",
    "*Bonus: Can you do this in one pass?*\n"
   ],
   "cell_type": "markdown",
   "metadata": {}
  },
  {
   "cell_type": "code",
   "execution_count": 18,
   "metadata": {
    "tags": []
   },
   "outputs": [
    {
     "output_type": "execute_result",
     "data": {
      "text/plain": "True"
     },
     "metadata": {},
     "execution_count": 18
    }
   ],
   "source": [
    "list_num = [10, 15, 3, 7]\n",
    "k = int(input(\"Number to Check\"))\n",
    "\n",
    "def evaluate(num):\n",
    "    valid = False\n",
    "    for first in range(len(num)):\n",
    "        if valid == True:\n",
    "            break\n",
    "        for second in range(len(num)):\n",
    "            if first == second:\n",
    "                continue\n",
    "            else:\n",
    "                if (num[first] + num[second]) == k:\n",
    "                    valid = True\n",
    "                    return(valid)\n",
    "                    break\n",
    "\n",
    "evaluate(list_num)"
   ]
  }
 ]
}