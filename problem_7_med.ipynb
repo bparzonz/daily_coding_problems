{
 "metadata": {
  "language_info": {
   "codemirror_mode": {
    "name": "ipython",
    "version": 3
   },
   "file_extension": ".py",
   "mimetype": "text/x-python",
   "name": "python",
   "nbconvert_exporter": "python",
   "pygments_lexer": "ipython3",
   "version": "3.8.3-final"
  },
  "orig_nbformat": 2,
  "kernelspec": {
   "name": "Python 3.8.3 64-bit ('base': conda)",
   "display_name": "Python 3.8.3 64-bit ('base': conda)",
   "metadata": {
    "interpreter": {
     "hash": "e134e05457d34029b6460cd73bbf1ed73f339b5b6d98c95be70b69eba114fe95"
    }
   }
  }
 },
 "nbformat": 4,
 "nbformat_minor": 2,
 "cells": [
  {
   "source": [
    "# Question <br>\n",
    "\n",
    "This problem was asked by Facebook. <br>\n",
    "\n",
    "Given the mapping a = 1, b = 2, ... z = 26, and an encoded message, count the number of ways it can be decoded. <br>\n",
    "\n",
    "For example, the message '111' would give 3, since it could be decoded as 'aaa', 'ka', and 'ak'. <br>\n",
    "\n",
    "You can assume that the messages are decodable. For example, '001' is not allowed.\n",
    "\n"
   ],
   "cell_type": "markdown",
   "metadata": {}
  },
  {
   "cell_type": "code",
   "execution_count": 176,
   "metadata": {
    "tags": []
   },
   "outputs": [
    {
     "output_type": "execute_result",
     "data": {
      "text/plain": "1"
     },
     "metadata": {},
     "execution_count": 176
    }
   ],
   "source": [
    "\n",
    "def int_list_check():\n",
    "\n",
    "    while True:\n",
    "        try:\n",
    "            enc = input(\"Input Number Encode\")\n",
    "\n",
    "            enc = list(str(enc))\n",
    "            l = []\n",
    "\n",
    "            for i in enc:\n",
    "                l.append(abs(int(i)))\n",
    "\n",
    "            counter = 0\n",
    "\n",
    "            if l[0] > 2 or l[0] == 0:\n",
    "                raise Exception()\n",
    "    \n",
    "            for i in range(len(l)):\n",
    "                if counter == 2: \n",
    "                    raise Exception()\n",
    "\n",
    "                if l[i] == 0:\n",
    "                    if l[i-1] == 0 or l[i-1] > 2:\n",
    "                        raise Exception()\n",
    "\n",
    "            break\n",
    "\n",
    "        except:\n",
    "            print(\"You have not provided a valid input, please try again.\")\n",
    "\n",
    "    return l\n",
    "\n",
    "def num_enc():\n",
    "\n",
    "    l = int_list_check()\n",
    "    n = len(l)\n",
    "\n",
    "    num = [0] * (n + 1) # A table to store results of subproblems \n",
    "    num[0] = 1\n",
    "    num[1] = 1\n",
    "\n",
    "    for i in range(2, n + 1):\n",
    "\n",
    "        num[i] = 0\n",
    "\n",
    "        # If the last digit is not 0, then last digit must add to the number of words \n",
    "\n",
    "        if l[i-1] > 0:\n",
    "            num[i] = num[i-1]\n",
    "\n",
    "        # If second last digit is smaller than 2 and last digit is smaller than 7, then last two digits form a valid character \n",
    "\n",
    "        if (l[i-2] == 1 or\n",
    "            (l[i-2] == 2 and\n",
    "            l[i-2] < 7)):\n",
    "\n",
    "            num[i] += num[i-2]\n",
    "\n",
    "    return num[n]\n",
    "\n",
    "\n",
    "num_enc()"
   ]
  }
 ]
}